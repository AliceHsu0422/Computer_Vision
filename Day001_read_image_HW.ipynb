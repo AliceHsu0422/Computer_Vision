{
 "cells": [
  {
   "cell_type": "code",
   "execution_count": 4,
   "id": "67cdd321",
   "metadata": {},
   "outputs": [],
   "source": [
    "import cv2\n",
    "file_name = \"./dog.jpeg\"\n",
    "img = cv2.imread(file_name)"
   ]
  },
  {
   "cell_type": "code",
   "execution_count": 8,
   "id": "34659d22",
   "metadata": {},
   "outputs": [],
   "source": [
    "cv2.imshow('My Image', img)\n",
    "cv2.waitKey(0)\n",
    "cv2.destroyAllWindows() #按任意鍵關閉視窗"
   ]
  },
  {
   "cell_type": "code",
   "execution_count": 9,
   "id": "76da3bcd",
   "metadata": {},
   "outputs": [],
   "source": [
    "img_color = cv2.imread(file_name, cv2.IMREAD_COLOR)\n",
    "img_gray = cv2.imread(file_name, cv2.IMREAD_GRAYSCALE)"
   ]
  },
  {
   "cell_type": "code",
   "execution_count": 10,
   "id": "67877809",
   "metadata": {},
   "outputs": [],
   "source": [
    "#載入包含 Blue, Green, Red 三個 channel 的彩色圖片\n",
    "cv2.imshow('My Image color', img_color)\n",
    "cv2.waitKey(0)\n",
    "cv2.destroyAllWindows() #按任意鍵關閉視窗"
   ]
  },
  {
   "cell_type": "code",
   "execution_count": 11,
   "id": "8fdeab3e",
   "metadata": {},
   "outputs": [],
   "source": [
    "#載入灰階格式的圖片\n",
    "cv2.imshow('My Image gray', img_gray)\n",
    "cv2.waitKey(0)\n",
    "cv2.destroyAllWindows() #按任意鍵關閉視窗"
   ]
  },
  {
   "cell_type": "code",
   "execution_count": null,
   "id": "753cfa38",
   "metadata": {},
   "outputs": [],
   "source": []
  }
 ],
 "metadata": {
  "kernelspec": {
   "display_name": "Python 3 (ipykernel)",
   "language": "python",
   "name": "python3"
  },
  "language_info": {
   "codemirror_mode": {
    "name": "ipython",
    "version": 3
   },
   "file_extension": ".py",
   "mimetype": "text/x-python",
   "name": "python",
   "nbconvert_exporter": "python",
   "pygments_lexer": "ipython3",
   "version": "3.9.15"
  }
 },
 "nbformat": 4,
 "nbformat_minor": 5
}
